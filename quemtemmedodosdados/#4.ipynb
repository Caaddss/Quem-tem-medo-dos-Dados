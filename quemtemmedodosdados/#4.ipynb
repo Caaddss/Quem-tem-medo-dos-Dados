{
 "metadata": {
  "language_info": {
   "codemirror_mode": {
    "name": "ipython",
    "version": 3
   },
   "file_extension": ".py",
   "mimetype": "text/x-python",
   "name": "python",
   "nbconvert_exporter": "python",
   "pygments_lexer": "ipython3",
   "version": "3.7.3-final"
  },
  "orig_nbformat": 2,
  "kernelspec": {
   "name": "python37364bitenvvenva522c047cd72479b96da69d1e3cc494c",
   "display_name": "Python 3.7.3 64-bit ('env': venv)"
  }
 },
 "nbformat": 4,
 "nbformat_minor": 2,
 "cells": [
  {
   "cell_type": "markdown",
   "metadata": {},
   "source": [
    "Quem tem medo dos dados? #4 Live Coding Com a Caaddss\n",
    "\n",
    "São Paulo, 14 de julho de 2020"
   ]
  },
  {
   "cell_type": "markdown",
   "metadata": {},
   "source": [
    "Vamos estudar como analisar um dataset público utilizando Python!! O dataset em questão é dos candidatos as Eleições Gerais de 2018, disponível no site do Tribunal Superior Eleitoral - [TSE](http://www.tse.jus.br/eleicoes/estatisticas/repositorio-de-dados-eleitorais-1/repositorio-de-dados-eleitorais)."
   ]
  },
  {
   "cell_type": "markdown",
   "metadata": {},
   "source": [
    "#### Por que Python e não outra linguagem?\n",
    "\n",
    "Python destaca-se pela rapidez em escrever programas relativamente pequenos, porém capazes de automatizar diversas tarefas, sem perder a robustez. Por ser uma linguagem de código aberto, a comunidade que a mantém tem grande comprometimento em manter as ferramentas atualizadas, fazendo-a se tornar uma das principais ferramentas para aplicações científicas, como a análise de dados.\n",
    "\n"
   ]
  },
  {
   "cell_type": "markdown",
   "metadata": {},
   "source": [
    "Iremos utilizar as principais ferramentas para Análise de Dados:\n",
    "\n",
    "- Jupyter notebook\n",
    "- pandas (com a letra minúscula mesmo)\n",
    "- numpy\n",
    "- matplotlib\n",
    "- seaborn"
   ]
  },
  {
   "cell_type": "code",
   "execution_count": 2,
   "metadata": {},
   "outputs": [],
   "source": [
    "import pandas as pd"
   ]
  },
  {
   "cell_type": "code",
   "execution_count": 3,
   "metadata": {},
   "outputs": [],
   "source": [
    "dataframe = pd.read_csv('consulta_cand_2018_BRASIL.csv', delimiter=';', encoding='latin-1')"
   ]
  },
  {
   "cell_type": "code",
   "execution_count": 4,
   "metadata": {
    "tags": []
   },
   "outputs": [
    {
     "output_type": "execute_result",
     "data": {
      "text/plain": "   DT_GERACAO HH_GERACAO  ANO_ELEICAO  CD_TIPO_ELEICAO    NM_TIPO_ELEICAO  \\\n0  30/10/2018   10:39:17         2018                2  ELEIÇÃO ORDINÁRIA   \n1  30/10/2018   10:39:17         2018                2  ELEIÇÃO ORDINÁRIA   \n2  30/10/2018   10:39:17         2018                2  ELEIÇÃO ORDINÁRIA   \n3  30/10/2018   10:39:17         2018                2  ELEIÇÃO ORDINÁRIA   \n4  30/10/2018   10:39:17         2018                2  ELEIÇÃO ORDINÁRIA   \n\n   NR_TURNO  CD_ELEICAO                      DS_ELEICAO  DT_ELEICAO  \\\n0         1         297  Eleições Gerais Estaduais 2018  07/10/2018   \n1         1         297  Eleições Gerais Estaduais 2018  07/10/2018   \n2         1         297  Eleições Gerais Estaduais 2018  07/10/2018   \n3         1         297  Eleições Gerais Estaduais 2018  07/10/2018   \n4         1         297  Eleições Gerais Estaduais 2018  07/10/2018   \n\n  TP_ABRANGENCIA  ... DS_COR_RACA CD_OCUPACAO  DS_OCUPACAO  \\\n0       ESTADUAL  ...       PARDA         169  COMERCIANTE   \n1       ESTADUAL  ...       PARDA         999       OUTROS   \n2       ESTADUAL  ...       PRETA         257   EMPRESÁRIO   \n3       ESTADUAL  ...       PARDA         999       OUTROS   \n4       ESTADUAL  ...      BRANCA         999       OUTROS   \n\n   NR_DESPESA_MAX_CAMPANHA CD_SIT_TOT_TURNO  DS_SIT_TOT_TURNO  ST_REELEICAO  \\\n0                        0                5          SUPLENTE             N   \n1                        0                5          SUPLENTE             N   \n2                        0                5          SUPLENTE             N   \n3                        0                5          SUPLENTE             N   \n4                        0                5          SUPLENTE             N   \n\n  ST_DECLARAR_BENS NR_PROTOCOLO_CANDIDATURA          NR_PROCESSO  \n0                S                       -1  6011428620186060000  \n1                N                       -1  6044512320186130000  \n2                S                       -1  6009010420186100000  \n3                N                       -1  6003259220186070000  \n4                S                       -1  6014104820186130000  \n\n[5 rows x 58 columns]",
      "text/html": "<div>\n<style scoped>\n    .dataframe tbody tr th:only-of-type {\n        vertical-align: middle;\n    }\n\n    .dataframe tbody tr th {\n        vertical-align: top;\n    }\n\n    .dataframe thead th {\n        text-align: right;\n    }\n</style>\n<table border=\"1\" class=\"dataframe\">\n  <thead>\n    <tr style=\"text-align: right;\">\n      <th></th>\n      <th>DT_GERACAO</th>\n      <th>HH_GERACAO</th>\n      <th>ANO_ELEICAO</th>\n      <th>CD_TIPO_ELEICAO</th>\n      <th>NM_TIPO_ELEICAO</th>\n      <th>NR_TURNO</th>\n      <th>CD_ELEICAO</th>\n      <th>DS_ELEICAO</th>\n      <th>DT_ELEICAO</th>\n      <th>TP_ABRANGENCIA</th>\n      <th>...</th>\n      <th>DS_COR_RACA</th>\n      <th>CD_OCUPACAO</th>\n      <th>DS_OCUPACAO</th>\n      <th>NR_DESPESA_MAX_CAMPANHA</th>\n      <th>CD_SIT_TOT_TURNO</th>\n      <th>DS_SIT_TOT_TURNO</th>\n      <th>ST_REELEICAO</th>\n      <th>ST_DECLARAR_BENS</th>\n      <th>NR_PROTOCOLO_CANDIDATURA</th>\n      <th>NR_PROCESSO</th>\n    </tr>\n  </thead>\n  <tbody>\n    <tr>\n      <th>0</th>\n      <td>30/10/2018</td>\n      <td>10:39:17</td>\n      <td>2018</td>\n      <td>2</td>\n      <td>ELEIÇÃO ORDINÁRIA</td>\n      <td>1</td>\n      <td>297</td>\n      <td>Eleições Gerais Estaduais 2018</td>\n      <td>07/10/2018</td>\n      <td>ESTADUAL</td>\n      <td>...</td>\n      <td>PARDA</td>\n      <td>169</td>\n      <td>COMERCIANTE</td>\n      <td>0</td>\n      <td>5</td>\n      <td>SUPLENTE</td>\n      <td>N</td>\n      <td>S</td>\n      <td>-1</td>\n      <td>6011428620186060000</td>\n    </tr>\n    <tr>\n      <th>1</th>\n      <td>30/10/2018</td>\n      <td>10:39:17</td>\n      <td>2018</td>\n      <td>2</td>\n      <td>ELEIÇÃO ORDINÁRIA</td>\n      <td>1</td>\n      <td>297</td>\n      <td>Eleições Gerais Estaduais 2018</td>\n      <td>07/10/2018</td>\n      <td>ESTADUAL</td>\n      <td>...</td>\n      <td>PARDA</td>\n      <td>999</td>\n      <td>OUTROS</td>\n      <td>0</td>\n      <td>5</td>\n      <td>SUPLENTE</td>\n      <td>N</td>\n      <td>N</td>\n      <td>-1</td>\n      <td>6044512320186130000</td>\n    </tr>\n    <tr>\n      <th>2</th>\n      <td>30/10/2018</td>\n      <td>10:39:17</td>\n      <td>2018</td>\n      <td>2</td>\n      <td>ELEIÇÃO ORDINÁRIA</td>\n      <td>1</td>\n      <td>297</td>\n      <td>Eleições Gerais Estaduais 2018</td>\n      <td>07/10/2018</td>\n      <td>ESTADUAL</td>\n      <td>...</td>\n      <td>PRETA</td>\n      <td>257</td>\n      <td>EMPRESÁRIO</td>\n      <td>0</td>\n      <td>5</td>\n      <td>SUPLENTE</td>\n      <td>N</td>\n      <td>S</td>\n      <td>-1</td>\n      <td>6009010420186100000</td>\n    </tr>\n    <tr>\n      <th>3</th>\n      <td>30/10/2018</td>\n      <td>10:39:17</td>\n      <td>2018</td>\n      <td>2</td>\n      <td>ELEIÇÃO ORDINÁRIA</td>\n      <td>1</td>\n      <td>297</td>\n      <td>Eleições Gerais Estaduais 2018</td>\n      <td>07/10/2018</td>\n      <td>ESTADUAL</td>\n      <td>...</td>\n      <td>PARDA</td>\n      <td>999</td>\n      <td>OUTROS</td>\n      <td>0</td>\n      <td>5</td>\n      <td>SUPLENTE</td>\n      <td>N</td>\n      <td>N</td>\n      <td>-1</td>\n      <td>6003259220186070000</td>\n    </tr>\n    <tr>\n      <th>4</th>\n      <td>30/10/2018</td>\n      <td>10:39:17</td>\n      <td>2018</td>\n      <td>2</td>\n      <td>ELEIÇÃO ORDINÁRIA</td>\n      <td>1</td>\n      <td>297</td>\n      <td>Eleições Gerais Estaduais 2018</td>\n      <td>07/10/2018</td>\n      <td>ESTADUAL</td>\n      <td>...</td>\n      <td>BRANCA</td>\n      <td>999</td>\n      <td>OUTROS</td>\n      <td>0</td>\n      <td>5</td>\n      <td>SUPLENTE</td>\n      <td>N</td>\n      <td>S</td>\n      <td>-1</td>\n      <td>6014104820186130000</td>\n    </tr>\n  </tbody>\n</table>\n<p>5 rows × 58 columns</p>\n</div>"
     },
     "metadata": {},
     "execution_count": 4
    }
   ],
   "source": [
    "dataframe.head()"
   ]
  },
  {
   "cell_type": "code",
   "execution_count": 5,
   "metadata": {},
   "outputs": [
    {
     "output_type": "execute_result",
     "data": {
      "text/plain": "       DT_GERACAO HH_GERACAO  ANO_ELEICAO  CD_TIPO_ELEICAO    NM_TIPO_ELEICAO  \\\n29140  30/10/2018   10:39:17         2018                2  ELEIÇÃO ORDINÁRIA   \n29141  30/10/2018   10:39:17         2018                2  ELEIÇÃO ORDINÁRIA   \n29142  30/10/2018   10:39:17         2018                2  ELEIÇÃO ORDINÁRIA   \n29143  30/10/2018   10:39:17         2018                2  ELEIÇÃO ORDINÁRIA   \n29144  30/10/2018   10:39:17         2018                2  ELEIÇÃO ORDINÁRIA   \n\n       NR_TURNO  CD_ELEICAO                      DS_ELEICAO  DT_ELEICAO  \\\n29140         1         297  Eleições Gerais Estaduais 2018  07/10/2018   \n29141         1         297  Eleições Gerais Estaduais 2018  07/10/2018   \n29142         1         297  Eleições Gerais Estaduais 2018  07/10/2018   \n29143         1         297  Eleições Gerais Estaduais 2018  07/10/2018   \n29144         1         297  Eleições Gerais Estaduais 2018  07/10/2018   \n\n      TP_ABRANGENCIA  ... DS_COR_RACA CD_OCUPACAO                DS_OCUPACAO  \\\n29140       ESTADUAL  ...     AMARELA         266  PROFESSOR DE ENSINO MÉDIO   \n29141       ESTADUAL  ...      BRANCA         257                 EMPRESÁRIO   \n29142       ESTADUAL  ...       PARDA         277                   DEPUTADO   \n29143       ESTADUAL  ...      BRANCA         171       JORNALISTA E REDATOR   \n29144       ESTADUAL  ...       PARDA         266  PROFESSOR DE ENSINO MÉDIO   \n\n       NR_DESPESA_MAX_CAMPANHA CD_SIT_TOT_TURNO  DS_SIT_TOT_TURNO  \\\n29140                        0                5          SUPLENTE   \n29141                        0                5          SUPLENTE   \n29142                        0                2     ELEITO POR QP   \n29143                        0                4        NÃO ELEITO   \n29144                        0                5          SUPLENTE   \n\n       ST_REELEICAO ST_DECLARAR_BENS NR_PROTOCOLO_CANDIDATURA  \\\n29140             N                S                       -1   \n29141             N                S                       -1   \n29142             S                S                       -1   \n29143             N                S                       -1   \n29144             N                N                       -1   \n\n               NR_PROCESSO  \n29140  6016191720186130000  \n29141  6023159020186260000  \n29142  6005979720186030000  \n29143  6004387220186240000  \n29144  6005430620186220000  \n\n[5 rows x 58 columns]",
      "text/html": "<div>\n<style scoped>\n    .dataframe tbody tr th:only-of-type {\n        vertical-align: middle;\n    }\n\n    .dataframe tbody tr th {\n        vertical-align: top;\n    }\n\n    .dataframe thead th {\n        text-align: right;\n    }\n</style>\n<table border=\"1\" class=\"dataframe\">\n  <thead>\n    <tr style=\"text-align: right;\">\n      <th></th>\n      <th>DT_GERACAO</th>\n      <th>HH_GERACAO</th>\n      <th>ANO_ELEICAO</th>\n      <th>CD_TIPO_ELEICAO</th>\n      <th>NM_TIPO_ELEICAO</th>\n      <th>NR_TURNO</th>\n      <th>CD_ELEICAO</th>\n      <th>DS_ELEICAO</th>\n      <th>DT_ELEICAO</th>\n      <th>TP_ABRANGENCIA</th>\n      <th>...</th>\n      <th>DS_COR_RACA</th>\n      <th>CD_OCUPACAO</th>\n      <th>DS_OCUPACAO</th>\n      <th>NR_DESPESA_MAX_CAMPANHA</th>\n      <th>CD_SIT_TOT_TURNO</th>\n      <th>DS_SIT_TOT_TURNO</th>\n      <th>ST_REELEICAO</th>\n      <th>ST_DECLARAR_BENS</th>\n      <th>NR_PROTOCOLO_CANDIDATURA</th>\n      <th>NR_PROCESSO</th>\n    </tr>\n  </thead>\n  <tbody>\n    <tr>\n      <th>29140</th>\n      <td>30/10/2018</td>\n      <td>10:39:17</td>\n      <td>2018</td>\n      <td>2</td>\n      <td>ELEIÇÃO ORDINÁRIA</td>\n      <td>1</td>\n      <td>297</td>\n      <td>Eleições Gerais Estaduais 2018</td>\n      <td>07/10/2018</td>\n      <td>ESTADUAL</td>\n      <td>...</td>\n      <td>AMARELA</td>\n      <td>266</td>\n      <td>PROFESSOR DE ENSINO MÉDIO</td>\n      <td>0</td>\n      <td>5</td>\n      <td>SUPLENTE</td>\n      <td>N</td>\n      <td>S</td>\n      <td>-1</td>\n      <td>6016191720186130000</td>\n    </tr>\n    <tr>\n      <th>29141</th>\n      <td>30/10/2018</td>\n      <td>10:39:17</td>\n      <td>2018</td>\n      <td>2</td>\n      <td>ELEIÇÃO ORDINÁRIA</td>\n      <td>1</td>\n      <td>297</td>\n      <td>Eleições Gerais Estaduais 2018</td>\n      <td>07/10/2018</td>\n      <td>ESTADUAL</td>\n      <td>...</td>\n      <td>BRANCA</td>\n      <td>257</td>\n      <td>EMPRESÁRIO</td>\n      <td>0</td>\n      <td>5</td>\n      <td>SUPLENTE</td>\n      <td>N</td>\n      <td>S</td>\n      <td>-1</td>\n      <td>6023159020186260000</td>\n    </tr>\n    <tr>\n      <th>29142</th>\n      <td>30/10/2018</td>\n      <td>10:39:17</td>\n      <td>2018</td>\n      <td>2</td>\n      <td>ELEIÇÃO ORDINÁRIA</td>\n      <td>1</td>\n      <td>297</td>\n      <td>Eleições Gerais Estaduais 2018</td>\n      <td>07/10/2018</td>\n      <td>ESTADUAL</td>\n      <td>...</td>\n      <td>PARDA</td>\n      <td>277</td>\n      <td>DEPUTADO</td>\n      <td>0</td>\n      <td>2</td>\n      <td>ELEITO POR QP</td>\n      <td>S</td>\n      <td>S</td>\n      <td>-1</td>\n      <td>6005979720186030000</td>\n    </tr>\n    <tr>\n      <th>29143</th>\n      <td>30/10/2018</td>\n      <td>10:39:17</td>\n      <td>2018</td>\n      <td>2</td>\n      <td>ELEIÇÃO ORDINÁRIA</td>\n      <td>1</td>\n      <td>297</td>\n      <td>Eleições Gerais Estaduais 2018</td>\n      <td>07/10/2018</td>\n      <td>ESTADUAL</td>\n      <td>...</td>\n      <td>BRANCA</td>\n      <td>171</td>\n      <td>JORNALISTA E REDATOR</td>\n      <td>0</td>\n      <td>4</td>\n      <td>NÃO ELEITO</td>\n      <td>N</td>\n      <td>S</td>\n      <td>-1</td>\n      <td>6004387220186240000</td>\n    </tr>\n    <tr>\n      <th>29144</th>\n      <td>30/10/2018</td>\n      <td>10:39:17</td>\n      <td>2018</td>\n      <td>2</td>\n      <td>ELEIÇÃO ORDINÁRIA</td>\n      <td>1</td>\n      <td>297</td>\n      <td>Eleições Gerais Estaduais 2018</td>\n      <td>07/10/2018</td>\n      <td>ESTADUAL</td>\n      <td>...</td>\n      <td>PARDA</td>\n      <td>266</td>\n      <td>PROFESSOR DE ENSINO MÉDIO</td>\n      <td>0</td>\n      <td>5</td>\n      <td>SUPLENTE</td>\n      <td>N</td>\n      <td>N</td>\n      <td>-1</td>\n      <td>6005430620186220000</td>\n    </tr>\n  </tbody>\n</table>\n<p>5 rows × 58 columns</p>\n</div>"
     },
     "metadata": {},
     "execution_count": 5
    }
   ],
   "source": [
    "dataframe.tail()"
   ]
  },
  {
   "cell_type": "code",
   "execution_count": 6,
   "metadata": {
    "tags": []
   },
   "outputs": [
    {
     "output_type": "stream",
     "name": "stdout",
     "text": "<class 'pandas.core.frame.DataFrame'>\nRangeIndex: 29145 entries, 0 to 29144\nData columns (total 58 columns):\n #   Column                         Non-Null Count  Dtype \n---  ------                         --------------  ----- \n 0   DT_GERACAO                     29145 non-null  object\n 1   HH_GERACAO                     29145 non-null  object\n 2   ANO_ELEICAO                    29145 non-null  int64 \n 3   CD_TIPO_ELEICAO                29145 non-null  int64 \n 4   NM_TIPO_ELEICAO                29145 non-null  object\n 5   NR_TURNO                       29145 non-null  int64 \n 6   CD_ELEICAO                     29145 non-null  int64 \n 7   DS_ELEICAO                     29145 non-null  object\n 8   DT_ELEICAO                     29145 non-null  object\n 9   TP_ABRANGENCIA                 29145 non-null  object\n 10  SG_UF                          29145 non-null  object\n 11  SG_UE                          29145 non-null  object\n 12  NM_UE                          29145 non-null  object\n 13  CD_CARGO                       29145 non-null  int64 \n 14  DS_CARGO                       29145 non-null  object\n 15  SQ_CANDIDATO                   29145 non-null  int64 \n 16  NR_CANDIDATO                   29145 non-null  int64 \n 17  NM_CANDIDATO                   29145 non-null  object\n 18  NM_URNA_CANDIDATO              29145 non-null  object\n 19  NM_SOCIAL_CANDIDATO            29145 non-null  object\n 20  NR_CPF_CANDIDATO               29145 non-null  int64 \n 21  NM_EMAIL                       29145 non-null  object\n 22  CD_SITUACAO_CANDIDATURA        29145 non-null  int64 \n 23  DS_SITUACAO_CANDIDATURA        29145 non-null  object\n 24  CD_DETALHE_SITUACAO_CAND       29145 non-null  int64 \n 25  DS_DETALHE_SITUACAO_CAND       29145 non-null  object\n 26  TP_AGREMIACAO                  29145 non-null  object\n 27  NR_PARTIDO                     29145 non-null  int64 \n 28  SG_PARTIDO                     29145 non-null  object\n 29  NM_PARTIDO                     29145 non-null  object\n 30  SQ_COLIGACAO                   29145 non-null  int64 \n 31  NM_COLIGACAO                   29145 non-null  object\n 32  DS_COMPOSICAO_COLIGACAO        29145 non-null  object\n 33  CD_NACIONALIDADE               29145 non-null  int64 \n 34  DS_NACIONALIDADE               29145 non-null  object\n 35  SG_UF_NASCIMENTO               29145 non-null  object\n 36  CD_MUNICIPIO_NASCIMENTO        29145 non-null  int64 \n 37  NM_MUNICIPIO_NASCIMENTO        29145 non-null  object\n 38  DT_NASCIMENTO                  29145 non-null  object\n 39  NR_IDADE_DATA_POSSE            29145 non-null  int64 \n 40  NR_TITULO_ELEITORAL_CANDIDATO  29145 non-null  int64 \n 41  CD_GENERO                      29145 non-null  int64 \n 42  DS_GENERO                      29145 non-null  object\n 43  CD_GRAU_INSTRUCAO              29145 non-null  int64 \n 44  DS_GRAU_INSTRUCAO              29145 non-null  object\n 45  CD_ESTADO_CIVIL                29145 non-null  int64 \n 46  DS_ESTADO_CIVIL                29145 non-null  object\n 47  CD_COR_RACA                    29145 non-null  int64 \n 48  DS_COR_RACA                    29145 non-null  object\n 49  CD_OCUPACAO                    29145 non-null  int64 \n 50  DS_OCUPACAO                    29145 non-null  object\n 51  NR_DESPESA_MAX_CAMPANHA        29145 non-null  int64 \n 52  CD_SIT_TOT_TURNO               29145 non-null  int64 \n 53  DS_SIT_TOT_TURNO               29145 non-null  object\n 54  ST_REELEICAO                   29145 non-null  object\n 55  ST_DECLARAR_BENS               29145 non-null  object\n 56  NR_PROTOCOLO_CANDIDATURA       29145 non-null  int64 \n 57  NR_PROCESSO                    29145 non-null  int64 \ndtypes: int64(25), object(33)\nmemory usage: 12.9+ MB\n"
    }
   ],
   "source": [
    "dataframe.info()"
   ]
  },
  {
   "cell_type": "code",
   "execution_count": 7,
   "metadata": {},
   "outputs": [
    {
     "output_type": "execute_result",
     "data": {
      "text/plain": "Index(['DT_GERACAO', 'HH_GERACAO', 'ANO_ELEICAO', 'CD_TIPO_ELEICAO',\n       'NM_TIPO_ELEICAO', 'NR_TURNO', 'CD_ELEICAO', 'DS_ELEICAO', 'DT_ELEICAO',\n       'TP_ABRANGENCIA', 'SG_UF', 'SG_UE', 'NM_UE', 'CD_CARGO', 'DS_CARGO',\n       'SQ_CANDIDATO', 'NR_CANDIDATO', 'NM_CANDIDATO', 'NM_URNA_CANDIDATO',\n       'NM_SOCIAL_CANDIDATO', 'NR_CPF_CANDIDATO', 'NM_EMAIL',\n       'CD_SITUACAO_CANDIDATURA', 'DS_SITUACAO_CANDIDATURA',\n       'CD_DETALHE_SITUACAO_CAND', 'DS_DETALHE_SITUACAO_CAND', 'TP_AGREMIACAO',\n       'NR_PARTIDO', 'SG_PARTIDO', 'NM_PARTIDO', 'SQ_COLIGACAO',\n       'NM_COLIGACAO', 'DS_COMPOSICAO_COLIGACAO', 'CD_NACIONALIDADE',\n       'DS_NACIONALIDADE', 'SG_UF_NASCIMENTO', 'CD_MUNICIPIO_NASCIMENTO',\n       'NM_MUNICIPIO_NASCIMENTO', 'DT_NASCIMENTO', 'NR_IDADE_DATA_POSSE',\n       'NR_TITULO_ELEITORAL_CANDIDATO', 'CD_GENERO', 'DS_GENERO',\n       'CD_GRAU_INSTRUCAO', 'DS_GRAU_INSTRUCAO', 'CD_ESTADO_CIVIL',\n       'DS_ESTADO_CIVIL', 'CD_COR_RACA', 'DS_COR_RACA', 'CD_OCUPACAO',\n       'DS_OCUPACAO', 'NR_DESPESA_MAX_CAMPANHA', 'CD_SIT_TOT_TURNO',\n       'DS_SIT_TOT_TURNO', 'ST_REELEICAO', 'ST_DECLARAR_BENS',\n       'NR_PROTOCOLO_CANDIDATURA', 'NR_PROCESSO'],\n      dtype='object')"
     },
     "metadata": {},
     "execution_count": 7
    }
   ],
   "source": [
    "dataframe.columns"
   ]
  },
  {
   "cell_type": "code",
   "execution_count": null,
   "metadata": {},
   "outputs": [],
   "source": []
  }
 ]
}