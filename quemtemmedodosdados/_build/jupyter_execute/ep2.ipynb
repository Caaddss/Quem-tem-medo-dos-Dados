{
 "cells": [
  {
   "cell_type": "markdown",
   "metadata": {},
   "source": [
    "# Quem tem medo dos dados?#2\n",
    "\n",
    "Nesse segundo ep vimos um pouco sobre as estruturas de dados: listas"
   ]
  },
  {
   "cell_type": "code",
   "execution_count": 1,
   "metadata": {
    "execution": {
     "iopub.execute_input": "2020-07-31T22:00:06.683668Z",
     "iopub.status.busy": "2020-07-31T22:00:06.681714Z",
     "iopub.status.idle": "2020-07-31T22:00:06.688549Z",
     "shell.execute_reply": "2020-07-31T22:00:06.687574Z"
    }
   },
   "outputs": [],
   "source": [
    "# formas de iniciar uma lista vazia\n",
    "lista_a = list()\n",
    "lista_b = []\n",
    "\n",
    "# formas de iniciar um dict\n",
    "dicio_a = dict()\n",
    "dicio_b = {}"
   ]
  },
  {
   "cell_type": "code",
   "execution_count": 2,
   "metadata": {
    "execution": {
     "iopub.execute_input": "2020-07-31T22:00:06.698315Z",
     "iopub.status.busy": "2020-07-31T22:00:06.696361Z",
     "iopub.status.idle": "2020-07-31T22:00:06.701242Z",
     "shell.execute_reply": "2020-07-31T22:00:06.703195Z"
    },
    "scrolled": true
   },
   "outputs": [],
   "source": [
    "lista_a = list(range(1,100,2))"
   ]
  },
  {
   "cell_type": "code",
   "execution_count": 3,
   "metadata": {
    "execution": {
     "iopub.execute_input": "2020-07-31T22:00:06.711981Z",
     "iopub.status.busy": "2020-07-31T22:00:06.711005Z",
     "iopub.status.idle": "2020-07-31T22:00:06.732485Z",
     "shell.execute_reply": "2020-07-31T22:00:06.733459Z"
    },
    "tags": []
   },
   "outputs": [
    {
     "name": "stdout",
     "output_type": "stream",
     "text": [
      "[1, 3, 5, 7, 9, 11, 13, 15, 17, 19, 21, 23, 25, 27, 29, 31, 33, 35, 37, 39, 41, 43, 45, 47, 49, 51, 53, 55, 57, 59, 61, 63, 65, 67, 69, 71, 73, 75, 77, 79, 81, 83, 85, 87, 89, 91, 93, 95, 97, 99, 101]\n"
     ]
    }
   ],
   "source": [
    "# pode acrescentar elementos no final da lista\n",
    "lista_a.append(101)\n",
    "print(lista_a)"
   ]
  },
  {
   "cell_type": "code",
   "execution_count": 4,
   "metadata": {
    "execution": {
     "iopub.execute_input": "2020-07-31T22:00:06.744207Z",
     "iopub.status.busy": "2020-07-31T22:00:06.742248Z",
     "iopub.status.idle": "2020-07-31T22:00:06.749082Z",
     "shell.execute_reply": "2020-07-31T22:00:06.751034Z"
    },
    "tags": []
   },
   "outputs": [
    {
     "name": "stdout",
     "output_type": "stream",
     "text": [
      "[1, 2, 3, 5, 7, 9, 11, 13, 15, 17, 19, 21, 23, 25, 27, 29, 31, 33, 35, 37, 39, 41, 43, 45, 47, 49, 51, 53, 55, 57, 59, 61, 63, 65, 67, 69, 71, 73, 75, 77, 79, 81, 83, 85, 87, 89, 91, 93, 95, 97, 99, 101]\n"
     ]
    }
   ],
   "source": [
    "# mas se você quer inserir em um local especifico use insert\n",
    "lista_a.insert(1,2)\n",
    "print(lista_a)"
   ]
  },
  {
   "cell_type": "code",
   "execution_count": 5,
   "metadata": {
    "execution": {
     "iopub.execute_input": "2020-07-31T22:00:06.760803Z",
     "iopub.status.busy": "2020-07-31T22:00:06.759822Z",
     "iopub.status.idle": "2020-07-31T22:00:06.765679Z",
     "shell.execute_reply": "2020-07-31T22:00:06.766657Z"
    }
   },
   "outputs": [],
   "source": [
    "# poutz, eu coloquei duas vezes o 2 ali, e agora? Vai excluir o primeiro objeto que corresponder c/ o que você passou\n",
    "lista_a.remove(2)"
   ]
  },
  {
   "cell_type": "code",
   "execution_count": 6,
   "metadata": {
    "execution": {
     "iopub.execute_input": "2020-07-31T22:00:06.793017Z",
     "iopub.status.busy": "2020-07-31T22:00:06.791064Z",
     "iopub.status.idle": "2020-07-31T22:00:06.798875Z",
     "shell.execute_reply": "2020-07-31T22:00:06.800833Z"
    },
    "scrolled": true
   },
   "outputs": [
    {
     "data": {
      "text/plain": [
       "3"
      ]
     },
     "execution_count": 6,
     "metadata": {},
     "output_type": "execute_result"
    }
   ],
   "source": [
    "# com o pop retiramos o elemento passando a posição dele\n",
    "lista_a.pop(1)"
   ]
  },
  {
   "cell_type": "code",
   "execution_count": 7,
   "metadata": {
    "execution": {
     "iopub.execute_input": "2020-07-31T22:00:06.810591Z",
     "iopub.status.busy": "2020-07-31T22:00:06.808638Z",
     "iopub.status.idle": "2020-07-31T22:00:06.814496Z",
     "shell.execute_reply": "2020-07-31T22:00:06.815474Z"
    },
    "tags": []
   },
   "outputs": [
    {
     "name": "stdout",
     "output_type": "stream",
     "text": [
      "[1, 5, 7, 9, 11, 13, 15, 17, 19, 21, 23, 25, 27, 29, 31, 33, 35, 37, 39, 41, 43, 45, 47, 49, 51, 53, 55, 57, 59, 61, 63, 65, 67, 69, 71, 73, 75, 77, 79, 81, 83, 85, 87, 89, 91, 93, 95, 97, 99, 101]\n"
     ]
    }
   ],
   "source": [
    "print(lista_a)"
   ]
  },
  {
   "cell_type": "code",
   "execution_count": null,
   "metadata": {},
   "outputs": [],
   "source": []
  },
  {
   "cell_type": "markdown",
   "metadata": {},
   "source": [
    "Para acessar os atributos e métodos: obj.<PRESSIONE TAB>\n",
    "Importante lembrar que Listas são mutáveis, diferentemente das Tuplas que são imutáveis.\n",
    "\n",
    "As duplas podem ser definidas de duas formas diferentes, sendo a primeira mais usual:"
   ]
  },
  {
   "cell_type": "code",
   "execution_count": 8,
   "metadata": {
    "execution": {
     "iopub.execute_input": "2020-07-31T22:00:06.825236Z",
     "iopub.status.busy": "2020-07-31T22:00:06.823283Z",
     "iopub.status.idle": "2020-07-31T22:00:06.832070Z",
     "shell.execute_reply": "2020-07-31T22:00:06.830118Z"
    }
   },
   "outputs": [
    {
     "data": {
      "text/plain": [
       "tuple"
      ]
     },
     "execution_count": 8,
     "metadata": {},
     "output_type": "execute_result"
    }
   ],
   "source": [
    "tupla_1 = (1,2,3,4,5)\n",
    "type(tupla_1)"
   ]
  },
  {
   "cell_type": "code",
   "execution_count": 9,
   "metadata": {
    "execution": {
     "iopub.execute_input": "2020-07-31T22:00:06.841834Z",
     "iopub.status.busy": "2020-07-31T22:00:06.839881Z",
     "iopub.status.idle": "2020-07-31T22:00:06.847692Z",
     "shell.execute_reply": "2020-07-31T22:00:06.848669Z"
    }
   },
   "outputs": [
    {
     "data": {
      "text/plain": [
       "tuple"
      ]
     },
     "execution_count": 9,
     "metadata": {},
     "output_type": "execute_result"
    }
   ],
   "source": [
    "tupla_2 = 6,7,8,9,10\n",
    "type(tupla_2)"
   ]
  },
  {
   "cell_type": "markdown",
   "metadata": {},
   "source": [
    "Como conversamos, muitas pessoas não sabem, mas existe sim arrays em python:"
   ]
  },
  {
   "cell_type": "code",
   "execution_count": 10,
   "metadata": {
    "execution": {
     "iopub.execute_input": "2020-07-31T22:00:06.858431Z",
     "iopub.status.busy": "2020-07-31T22:00:06.857454Z",
     "iopub.status.idle": "2020-07-31T22:00:06.866242Z",
     "shell.execute_reply": "2020-07-31T22:00:06.863316Z"
    }
   },
   "outputs": [],
   "source": [
    "import array\n",
    "\n",
    "array_1 = array.array('d', [2.7,3.4,3.5])"
   ]
  },
  {
   "cell_type": "code",
   "execution_count": 11,
   "metadata": {
    "execution": {
     "iopub.execute_input": "2020-07-31T22:00:06.876005Z",
     "iopub.status.busy": "2020-07-31T22:00:06.875029Z",
     "iopub.status.idle": "2020-07-31T22:00:06.880888Z",
     "shell.execute_reply": "2020-07-31T22:00:06.879911Z"
    }
   },
   "outputs": [],
   "source": [
    "array_2 = array.array('b', [2,7,3,4,3,5])"
   ]
  },
  {
   "cell_type": "code",
   "execution_count": 12,
   "metadata": {
    "execution": {
     "iopub.execute_input": "2020-07-31T22:00:06.894556Z",
     "iopub.status.busy": "2020-07-31T22:00:06.892602Z",
     "iopub.status.idle": "2020-07-31T22:00:06.900413Z",
     "shell.execute_reply": "2020-07-31T22:00:06.898461Z"
    },
    "tags": []
   },
   "outputs": [
    {
     "name": "stdout",
     "output_type": "stream",
     "text": [
      "array('d', [2.7, 3.5])\n"
     ]
    }
   ],
   "source": [
    "array_1.pop(1)\n",
    "print(array_1)"
   ]
  },
  {
   "cell_type": "code",
   "execution_count": 13,
   "metadata": {
    "execution": {
     "iopub.execute_input": "2020-07-31T22:00:06.910177Z",
     "iopub.status.busy": "2020-07-31T22:00:06.909202Z",
     "iopub.status.idle": "2020-07-31T22:00:06.915058Z",
     "shell.execute_reply": "2020-07-31T22:00:06.916034Z"
    },
    "tags": []
   },
   "outputs": [
    {
     "name": "stdout",
     "output_type": "stream",
     "text": [
      "array('b', [5, 3, 4, 3, 7, 2])\n"
     ]
    }
   ],
   "source": [
    "array_2.reverse()\n",
    "print(array_2)"
   ]
  },
  {
   "cell_type": "code",
   "execution_count": null,
   "metadata": {},
   "outputs": [],
   "source": []
  }
 ],
 "metadata": {
  "kernelspec": {
   "display_name": "Python 3",
   "language": "python",
   "name": "python3"
  },
  "language_info": {
   "codemirror_mode": {
    "name": "ipython",
    "version": 3
   },
   "file_extension": ".py",
   "mimetype": "text/x-python",
   "name": "python",
   "nbconvert_exporter": "python",
   "pygments_lexer": "ipython3",
   "version": "3.7.3"
  }
 },
 "nbformat": 4,
 "nbformat_minor": 2
}